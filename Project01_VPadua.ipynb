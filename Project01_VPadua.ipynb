{
 "cells": [
  {
   "cell_type": "markdown",
   "id": "cddf5de3-a9f3-4471-bbaf-aca41a70ce89",
   "metadata": {
    "id": "cddf5de3-a9f3-4471-bbaf-aca41a70ce89"
   },
   "source": [
    "## INST326 OOP Project 01"
   ]
  },
  {
   "cell_type": "markdown",
   "id": "2bb7f115-9eba-4f29-918e-b016e6a7edc8",
   "metadata": {
    "id": "2bb7f115-9eba-4f29-918e-b016e6a7edc8"
   },
   "source": [
    "### Virgil Padua\n",
    "> INST326 Section 0201  \n",
    "> Project 01\n",
    "> 09/29/2024\n",
    "#### Honor Pledge\n",
    "> I pledge that the work contained in this assignment is my own and that I have complied with University and course policies.\n"
   ]
  },
  {
   "cell_type": "markdown",
   "id": "8ee05bdb-db2d-41c2-9f23-3af75d058612",
   "metadata": {
    "id": "8ee05bdb-db2d-41c2-9f23-3af75d058612"
   },
   "source": [
    "### Projects\n",
    "Choose **ONE** of the following projects and write to code solution in the code cell below your choice. Use comments in your code to document your solution. If you need to write comments to the grader, add a markdown cell immediately above your code solution and add your comments there. Be sure to read and follow the Notebook Instructions at the bottom of this notebook. Your grade may depend on it! These projects cover [add description here]"
   ]
  },
  {
   "cell_type": "markdown",
   "id": "a1c98e85-2c64-4a03-8309-d91035cca6d2",
   "metadata": {
    "id": "a1c98e85-2c64-4a03-8309-d91035cca6d2"
   },
   "source": [
    "#### 1. Personal Finance Tracker\n",
    ">  Create a simple personal finance tracker to help users manage their income and expenses."
   ]
  },
  {
   "cell_type": "code",
   "execution_count": null,
   "id": "8cf9723f-1ab6-4461-90b6-637a177e0f5a",
   "metadata": {
    "id": "8cf9723f-1ab6-4461-90b6-637a177e0f5a"
   },
   "outputs": [],
   "source": [
    "# Solution - enter your code solution below\n"
   ]
  },
  {
   "cell_type": "markdown",
   "id": "28b28d8a-dbb3-4f15-bbe0-e14504b84876",
   "metadata": {
    "id": "28b28d8a-dbb3-4f15-bbe0-e14504b84876"
   },
   "source": [
    "#### 2. Simple Quiz Game\n",
    ">  Create a quiz game that asks the user a series of questions and keeps track of their score."
   ]
  },
  {
   "cell_type": "code",
   "execution_count": null,
   "id": "e655cf9f-d2fc-4541-918f-8d85b1c04e94",
   "metadata": {
    "id": "e655cf9f-d2fc-4541-918f-8d85b1c04e94"
   },
   "outputs": [],
   "source": [
    "# Solution - enter your code solution below\n"
   ]
  },
  {
   "cell_type": "markdown",
   "id": "6708f6cf-aac7-430e-947d-6f9c8dd161f6",
   "metadata": {
    "id": "6708f6cf-aac7-430e-947d-6f9c8dd161f6"
   },
   "source": [
    "#### 3. Contact Book\n",
    ">  Create a contact book application that allows users to add, search, and delete contacts."
   ]
  },
  {
   "cell_type": "code",
   "execution_count": null,
   "id": "992556f0-32d7-464d-99db-6cd10b907784",
   "metadata": {
    "id": "992556f0-32d7-464d-99db-6cd10b907784"
   },
   "outputs": [],
   "source": [
    "# Solution - enter your code solution below\n"
   ]
  },
  {
   "cell_type": "markdown",
   "id": "ec8ddd19-87cd-475d-a07f-7dc8983dc636",
   "metadata": {
    "id": "ec8ddd19-87cd-475d-a07f-7dc8983dc636"
   },
   "source": [
    "### Notebook Instructions\n",
    "> Before turning in your notebook:\n",
    "> 1. Make sure you have renamed the notebook file as instructed\n",
    "> 2. Make sure you have included your signature block and that it is correct according to the instructions\n",
    "> 3. comment your code as necessary\n",
    "> 4. run all code cells and double check that they run correctly. If you can't get your code to run correctly and you want partial credit, add a note for the grader in a new markdown cell directly above your code solution.<br><br>\n",
    "Turn in your notebook by uploading it to ELMS<br>\n",
    "IF the exercises involve saved data files, put your notebook and the data file(s) in a zip folder and upload the zip folder to ELMS"
   ]
  }
 ],
 "metadata": {
  "colab": {
   "provenance": []
  },
  "kernelspec": {
   "display_name": "Python 3 (ipykernel)",
   "language": "python",
   "name": "python3"
  },
  "language_info": {
   "codemirror_mode": {
    "name": "ipython",
    "version": 3
   },
   "file_extension": ".py",
   "mimetype": "text/x-python",
   "name": "python",
   "nbconvert_exporter": "python",
   "pygments_lexer": "ipython3",
   "version": "3.11.5"
  }
 },
 "nbformat": 4,
 "nbformat_minor": 5
}
