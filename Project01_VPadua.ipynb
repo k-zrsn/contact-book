{
 "cells": [
  {
   "cell_type": "markdown",
   "id": "cddf5de3-a9f3-4471-bbaf-aca41a70ce89",
   "metadata": {
    "id": "cddf5de3-a9f3-4471-bbaf-aca41a70ce89"
   },
   "source": [
    "## INST326 OOP Project 01"
   ]
  },
  {
   "cell_type": "markdown",
   "id": "2bb7f115-9eba-4f29-918e-b016e6a7edc8",
   "metadata": {
    "id": "2bb7f115-9eba-4f29-918e-b016e6a7edc8"
   },
   "source": [
    "### Virgil Padua\n",
    "> INST326 Section 0201  \n",
    "> Project 01\n",
    "> Due Date: 09/29/2024\n",
    "#### Honor Pledge\n",
    "> I pledge that the work contained in this assignment is my own and that I have complied with University and course policies.\n"
   ]
  },
  {
   "cell_type": "markdown",
   "id": "8ee05bdb-db2d-41c2-9f23-3af75d058612",
   "metadata": {
    "id": "8ee05bdb-db2d-41c2-9f23-3af75d058612"
   },
   "source": [
    "### Projects\n",
    "Choose **ONE** of the following projects and write to code solution in the code cell below your choice. Use comments in your code to document your solution. If you need to write comments to the grader, add a markdown cell immediately above your code solution and add your comments there. Be sure to read and follow the Notebook Instructions at the bottom of this notebook. Your grade may depend on it! These projects cover [add description here]"
   ]
  },
  {
   "cell_type": "markdown",
   "id": "a1c98e85-2c64-4a03-8309-d91035cca6d2",
   "metadata": {
    "id": "a1c98e85-2c64-4a03-8309-d91035cca6d2"
   },
   "source": [
    "#### 1. Personal Finance Tracker\n",
    ">  Create a simple personal finance tracker to help users manage their income and expenses."
   ]
  },
  {
   "cell_type": "code",
   "execution_count": null,
   "id": "8cf9723f-1ab6-4461-90b6-637a177e0f5a",
   "metadata": {
    "id": "8cf9723f-1ab6-4461-90b6-637a177e0f5a"
   },
   "outputs": [],
   "source": [
    "# Solution - enter your code solution below\n"
   ]
  },
  {
   "cell_type": "markdown",
   "id": "28b28d8a-dbb3-4f15-bbe0-e14504b84876",
   "metadata": {
    "id": "28b28d8a-dbb3-4f15-bbe0-e14504b84876"
   },
   "source": [
    "#### 2. Simple Quiz Game\n",
    ">  Create a quiz game that asks the user a series of questions and keeps track of their score."
   ]
  },
  {
   "cell_type": "code",
   "execution_count": null,
   "id": "e655cf9f-d2fc-4541-918f-8d85b1c04e94",
   "metadata": {
    "id": "e655cf9f-d2fc-4541-918f-8d85b1c04e94"
   },
   "outputs": [],
   "source": [
    "# Solution - enter your code solution below\n"
   ]
  },
  {
   "cell_type": "markdown",
   "id": "6708f6cf-aac7-430e-947d-6f9c8dd161f6",
   "metadata": {
    "id": "6708f6cf-aac7-430e-947d-6f9c8dd161f6"
   },
   "source": [
    "#### 3. Contact Book\n",
    ">  Create a contact book application that allows users to add, search, and delete contacts."
   ]
  },
  {
   "cell_type": "code",
   "execution_count": null,
   "id": "992556f0-32d7-464d-99db-6cd10b907784",
   "metadata": {
    "id": "992556f0-32d7-464d-99db-6cd10b907784"
   },
   "outputs": [
    {
     "name": "stdout",
     "output_type": "stream",
     "text": [
      "\n",
      "\n",
      "Contact Book\n",
      "\n",
      "John Jo: 555-555-5555\n",
      "Mugi Mu: 556-556-5656\n",
      "Mike Mi: 554-554-5454\n",
      "Lora Lo: 557-557-5757\n"
     ]
    },
    {
     "name": "stdin",
     "output_type": "stream",
     "text": [
      "\n",
      "\n",
      "Would you like to add, search, or delete a contact?  add\n",
      "\n",
      "Enter first AND last name of contact:  virgil padua\n",
      "\n",
      "Enter phone number:  123-456-7890\n"
     ]
    },
    {
     "name": "stdout",
     "output_type": "stream",
     "text": [
      "\n",
      "\n",
      "Contact has been added\n",
      "\n",
      "\n",
      "\n",
      "John Jo: 555-555-5555\n",
      "Mugi Mu: 556-556-5656\n",
      "Mike Mi: 554-554-5454\n",
      "Lora Lo: 557-557-5757\n",
      "Virgil Padua: 123-456-7890\n"
     ]
    },
    {
     "name": "stdin",
     "output_type": "stream",
     "text": [
      "\n",
      "\n",
      "Would you like to add, search, or delete a contact?  SEARCH\n",
      "\n",
      "Enter the name of the contact you would like to search for:  Padua\n"
     ]
    },
    {
     "name": "stdout",
     "output_type": "stream",
     "text": [
      "\n",
      "Contact found: Virgil Padua, Phone Number: 123-456-7890\n",
      "\n",
      "\n",
      "\n",
      "John Jo: 555-555-5555\n",
      "Mugi Mu: 556-556-5656\n",
      "Mike Mi: 554-554-5454\n",
      "Lora Lo: 557-557-5757\n",
      "Virgil Padua: 123-456-7890\n"
     ]
    },
    {
     "name": "stdin",
     "output_type": "stream",
     "text": [
      "\n",
      "\n",
      "Would you like to add, search, or delete a contact?  Delete\n",
      "\n",
      "Enter the FULL name of contact to delete:  Virgil Padua\n"
     ]
    },
    {
     "name": "stdout",
     "output_type": "stream",
     "text": [
      "\n",
      "\n",
      "Contact has been deleted\n",
      "\n",
      "\n",
      "\n",
      "John Jo: 555-555-5555\n",
      "Mugi Mu: 556-556-5656\n",
      "Mike Mi: 554-554-5454\n",
      "Lora Lo: 557-557-5757\n"
     ]
    }
   ],
   "source": [
    "### Contact book\n",
    "### An application that allows users to add, search, and delete contacts.\n",
    "\n",
    "\n",
    "#import time\n",
    "\n",
    "### Contact book (with samples)\n",
    "contactBook = {'John Jo': '555-555-5555', 'Mugi Mu': '556-556-5656', 'Mike Mi' : '554-554-5454', 'Lora Lo' : '557-557-5757'}\n",
    "\n",
    "def addContact():\n",
    "    \"\"\"\n",
    "    Docstring:\n",
    "    A function that asks the user for the name and phone number of the contact they want to add and updates the contactBook dictionary accordingly.\n",
    "    \"\"\"\n",
    "    contactName = input('\\nEnter first AND last name of contact: ').title() \n",
    "    phoneNumber = input('\\nEnter phone number: ')\n",
    "    contactBook.update([(contactName, phoneNumber)])\n",
    "    print (\"\\n\\nContact has been added\\n\\n\\n\")\n",
    "\n",
    "def searchContact():\n",
    "    \"\"\"\n",
    "    Docstring:\n",
    "    A function that asks the user for the name of the contact they want to search for, then displays the information of the contact.\n",
    "    \"\"\"\n",
    "    search = input(\"\\nEnter the name of the contact you would like to search for: \").title()\n",
    "    if search in contactBook:\n",
    "        print(f\"\\n\\n\\nContact found: {search}, Phone Number: {contactBook[search]}\\n\\n\\n\")\n",
    "        #time.sleep(2)\n",
    "\n",
    "    else:\n",
    "        contactFound = False\n",
    "        for name, phone in contactBook.items():\n",
    "            if search in name:\n",
    "                print(f\"\\nContact found: {name}, Phone Number: {phone}\\n\\n\\n\")\n",
    "                #time.sleep(2)\n",
    "                contactFound = True\n",
    "                break\n",
    "        if not contactFound:\n",
    "                print (\"\\n\\nContact not found\\n\")\n",
    "                #time.sleep(2)\n",
    "\n",
    "def deleteContact():\n",
    "    \"\"\"\n",
    "    Docstring:\n",
    "    A function that asks the user for the name of the contact they want to delete, then removes the contact from the contactBook dictionary.\n",
    "    \"\"\"\n",
    "    delete = input(\"\\nEnter the FULL name of contact to delete: \").title()\n",
    "    if delete in contactBook:\n",
    "        del contactBook[delete]\n",
    "        print (\"\\n\\nContact has been deleted\\n\\n\\n\")\n",
    "        #time.sleep(2)\n",
    "    else:\n",
    "        contactFound = False\n",
    "        for name, phone in contactBook.items():\n",
    "            if delete in name:\n",
    "                del contactBook[delete]\n",
    "                print (\"\\n\\nContact has been deleted\\n\\n\\n\")\n",
    "                #time.sleep(2)\n",
    "                contactFound = True\n",
    "                break\n",
    "            if not contactFound:\n",
    "                print (\"\\n\\nContact not found\\n\")\n",
    "                #time.sleep(2)\n",
    "\n",
    "\n",
    "print (\"\\n\\nContact Book\\n\")\n",
    "\n",
    "while True:\n",
    "    ### Print out the contact book\n",
    "    for name, phone in contactBook.items():\n",
    "        print (f\"{name}: {phone}\")\n",
    "\n",
    "    ### Ask the user what they want to do\n",
    "    action = input(\"\\n\\nWould you like to add, search, or delete a contact? \").upper()\n",
    "\n",
    "    \n",
    "    if 'ADD' in action:\n",
    "        addContact()\n",
    "\n",
    "    elif 'SEARCH' in action:\n",
    "        searchContact()\n",
    "\n",
    "    elif 'DELETE' in action:\n",
    "        deleteContact()\n"
   ]
  },
  {
   "cell_type": "markdown",
   "id": "ec8ddd19-87cd-475d-a07f-7dc8983dc636",
   "metadata": {
    "id": "ec8ddd19-87cd-475d-a07f-7dc8983dc636"
   },
   "source": [
    "### Notebook Instructions\n",
    "> Before turning in your notebook:\n",
    "> 1. Make sure you have renamed the notebook file as instructed\n",
    "> 2. Make sure you have included your signature block and that it is correct according to the instructions\n",
    "> 3. comment your code as necessary\n",
    "> 4. run all code cells and double check that they run correctly. If you can't get your code to run correctly and you want partial credit, add a note for the grader in a new markdown cell directly above your code solution.<br><br>\n",
    "Turn in your notebook by uploading it to ELMS<br>\n",
    "IF the exercises involve saved data files, put your notebook and the data file(s) in a zip folder and upload the zip folder to ELMS"
   ]
  }
 ],
 "metadata": {
  "colab": {
   "provenance": []
  },
  "kernelspec": {
   "display_name": "Python 3 (ipykernel)",
   "language": "python",
   "name": "python3"
  },
  "language_info": {
   "codemirror_mode": {
    "name": "ipython",
    "version": 3
   },
   "file_extension": ".py",
   "mimetype": "text/x-python",
   "name": "python",
   "nbconvert_exporter": "python",
   "pygments_lexer": "ipython3",
   "version": "3.11.5"
  }
 },
 "nbformat": 4,
 "nbformat_minor": 5
}
